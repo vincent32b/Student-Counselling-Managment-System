{
 "cells": [
  {
   "cell_type": "code",
   "execution_count": 1,
   "id": "431829ae",
   "metadata": {},
   "outputs": [],
   "source": [
    "import pandas as pd\n",
    "import matplotlib.pyplot as plt\n",
    "import seaborn as sns\n",
    "from sklearn.model_selection import train_test_split\n",
    "from sklearn.linear_model import LinearRegression\n",
    "from sklearn.metrics import *\n",
    "import plotly.express as px\n",
    "import numpy as np\n",
    "from sklearn.linear_model import ElasticNet\n",
    "from sklearn.ensemble import RandomForestRegressor\n",
    "from sklearn.ensemble import ExtraTreesRegressor\n",
    "from sklearn.ensemble import GradientBoostingRegressor\n",
    "from sklearn.svm import SVR\n",
    "\n",
    "# Splitting data into training/testing\n",
    "from sklearn.model_selection import train_test_split\n",
    "from sklearn.preprocessing import MinMaxScaler\n",
    "import seaborn as sns\n",
    "# Metrics\n",
    "from sklearn.metrics import mean_squared_error, mean_absolute_error, median_absolute_error"
   ]
  },
  {
   "cell_type": "code",
   "execution_count": 2,
   "id": "d94f3b33",
   "metadata": {},
   "outputs": [],
   "source": [
    "df = pd.read_csv('D:\\FYP2\\studentdataset.csv')"
   ]
  },
  {
   "cell_type": "code",
   "execution_count": 3,
   "id": "cf42f828",
   "metadata": {},
   "outputs": [
    {
     "data": {
      "text/html": [
       "<div>\n",
       "<style scoped>\n",
       "    .dataframe tbody tr th:only-of-type {\n",
       "        vertical-align: middle;\n",
       "    }\n",
       "\n",
       "    .dataframe tbody tr th {\n",
       "        vertical-align: top;\n",
       "    }\n",
       "\n",
       "    .dataframe thead th {\n",
       "        text-align: right;\n",
       "    }\n",
       "</style>\n",
       "<table border=\"1\" class=\"dataframe\">\n",
       "  <thead>\n",
       "    <tr style=\"text-align: right;\">\n",
       "      <th></th>\n",
       "      <th>guardianEncode</th>\n",
       "      <th>romanticEncode</th>\n",
       "      <th>internetEncode</th>\n",
       "      <th>higherEncode</th>\n",
       "      <th>nurseryEncode</th>\n",
       "      <th>activitiesEncode</th>\n",
       "      <th>paidEncode</th>\n",
       "      <th>famsupEncode</th>\n",
       "      <th>schoolsupEncode</th>\n",
       "      <th>reasonEncode</th>\n",
       "      <th>...</th>\n",
       "      <th>freetime</th>\n",
       "      <th>goout</th>\n",
       "      <th>Dalc</th>\n",
       "      <th>Walc</th>\n",
       "      <th>health</th>\n",
       "      <th>absences</th>\n",
       "      <th>G1</th>\n",
       "      <th>G2</th>\n",
       "      <th>G3</th>\n",
       "      <th>Target</th>\n",
       "    </tr>\n",
       "  </thead>\n",
       "  <tbody>\n",
       "    <tr>\n",
       "      <th>0</th>\n",
       "      <td>1</td>\n",
       "      <td>1</td>\n",
       "      <td>1</td>\n",
       "      <td>0</td>\n",
       "      <td>0</td>\n",
       "      <td>1</td>\n",
       "      <td>1</td>\n",
       "      <td>1</td>\n",
       "      <td>0</td>\n",
       "      <td>1</td>\n",
       "      <td>...</td>\n",
       "      <td>3</td>\n",
       "      <td>4</td>\n",
       "      <td>1</td>\n",
       "      <td>1</td>\n",
       "      <td>3</td>\n",
       "      <td>4</td>\n",
       "      <td>0</td>\n",
       "      <td>11</td>\n",
       "      <td>11</td>\n",
       "      <td>7.333333</td>\n",
       "    </tr>\n",
       "    <tr>\n",
       "      <th>1</th>\n",
       "      <td>0</td>\n",
       "      <td>1</td>\n",
       "      <td>0</td>\n",
       "      <td>0</td>\n",
       "      <td>1</td>\n",
       "      <td>1</td>\n",
       "      <td>1</td>\n",
       "      <td>0</td>\n",
       "      <td>1</td>\n",
       "      <td>1</td>\n",
       "      <td>...</td>\n",
       "      <td>3</td>\n",
       "      <td>3</td>\n",
       "      <td>1</td>\n",
       "      <td>1</td>\n",
       "      <td>3</td>\n",
       "      <td>2</td>\n",
       "      <td>9</td>\n",
       "      <td>11</td>\n",
       "      <td>11</td>\n",
       "      <td>10.333333</td>\n",
       "    </tr>\n",
       "    <tr>\n",
       "      <th>2</th>\n",
       "      <td>1</td>\n",
       "      <td>1</td>\n",
       "      <td>0</td>\n",
       "      <td>0</td>\n",
       "      <td>0</td>\n",
       "      <td>1</td>\n",
       "      <td>1</td>\n",
       "      <td>1</td>\n",
       "      <td>0</td>\n",
       "      <td>3</td>\n",
       "      <td>...</td>\n",
       "      <td>3</td>\n",
       "      <td>2</td>\n",
       "      <td>2</td>\n",
       "      <td>3</td>\n",
       "      <td>3</td>\n",
       "      <td>6</td>\n",
       "      <td>12</td>\n",
       "      <td>13</td>\n",
       "      <td>12</td>\n",
       "      <td>12.333333</td>\n",
       "    </tr>\n",
       "    <tr>\n",
       "      <th>3</th>\n",
       "      <td>1</td>\n",
       "      <td>0</td>\n",
       "      <td>0</td>\n",
       "      <td>0</td>\n",
       "      <td>0</td>\n",
       "      <td>0</td>\n",
       "      <td>1</td>\n",
       "      <td>0</td>\n",
       "      <td>1</td>\n",
       "      <td>0</td>\n",
       "      <td>...</td>\n",
       "      <td>2</td>\n",
       "      <td>2</td>\n",
       "      <td>1</td>\n",
       "      <td>1</td>\n",
       "      <td>5</td>\n",
       "      <td>0</td>\n",
       "      <td>14</td>\n",
       "      <td>14</td>\n",
       "      <td>14</td>\n",
       "      <td>14.000000</td>\n",
       "    </tr>\n",
       "    <tr>\n",
       "      <th>4</th>\n",
       "      <td>0</td>\n",
       "      <td>1</td>\n",
       "      <td>1</td>\n",
       "      <td>0</td>\n",
       "      <td>0</td>\n",
       "      <td>1</td>\n",
       "      <td>1</td>\n",
       "      <td>0</td>\n",
       "      <td>1</td>\n",
       "      <td>0</td>\n",
       "      <td>...</td>\n",
       "      <td>3</td>\n",
       "      <td>2</td>\n",
       "      <td>1</td>\n",
       "      <td>2</td>\n",
       "      <td>5</td>\n",
       "      <td>0</td>\n",
       "      <td>11</td>\n",
       "      <td>13</td>\n",
       "      <td>13</td>\n",
       "      <td>12.333333</td>\n",
       "    </tr>\n",
       "  </tbody>\n",
       "</table>\n",
       "<p>5 rows × 34 columns</p>\n",
       "</div>"
      ],
      "text/plain": [
       "   guardianEncode  romanticEncode  internetEncode  higherEncode  \\\n",
       "0               1               1               1             0   \n",
       "1               0               1               0             0   \n",
       "2               1               1               0             0   \n",
       "3               1               0               0             0   \n",
       "4               0               1               1             0   \n",
       "\n",
       "   nurseryEncode  activitiesEncode  paidEncode  famsupEncode  schoolsupEncode  \\\n",
       "0              0                 1           1             1                0   \n",
       "1              1                 1           1             0                1   \n",
       "2              0                 1           1             1                0   \n",
       "3              0                 0           1             0                1   \n",
       "4              0                 1           1             0                1   \n",
       "\n",
       "   reasonEncode  ...  freetime  goout  Dalc  Walc  health  absences  G1  G2  \\\n",
       "0             1  ...         3      4     1     1       3         4   0  11   \n",
       "1             1  ...         3      3     1     1       3         2   9  11   \n",
       "2             3  ...         3      2     2     3       3         6  12  13   \n",
       "3             0  ...         2      2     1     1       5         0  14  14   \n",
       "4             0  ...         3      2     1     2       5         0  11  13   \n",
       "\n",
       "   G3     Target  \n",
       "0  11   7.333333  \n",
       "1  11  10.333333  \n",
       "2  12  12.333333  \n",
       "3  14  14.000000  \n",
       "4  13  12.333333  \n",
       "\n",
       "[5 rows x 34 columns]"
      ]
     },
     "execution_count": 3,
     "metadata": {},
     "output_type": "execute_result"
    }
   ],
   "source": [
    "df.head()"
   ]
  },
  {
   "cell_type": "code",
   "execution_count": null,
   "id": "ba3290f2",
   "metadata": {},
   "outputs": [],
   "source": [
    "fig = sns.pairplot(df, hue=\"G3\")\n",
    "fig2=st.pyplot(fig)"
   ]
  },
  {
   "cell_type": "code",
   "execution_count": null,
   "id": "36279dfe",
   "metadata": {},
   "outputs": [],
   "source": [
    "print(\"Total number of student\")\n",
    "count=df['G3'].sum()\n",
    "print(count)"
   ]
  },
  {
   "cell_type": "code",
   "execution_count": null,
   "id": "9094db29",
   "metadata": {},
   "outputs": [],
   "source": [
    "df['absences']"
   ]
  },
  {
   "cell_type": "code",
   "execution_count": null,
   "id": "7d6554d7",
   "metadata": {},
   "outputs": [],
   "source": [
    "df.shape"
   ]
  },
  {
   "cell_type": "code",
   "execution_count": null,
   "id": "f2d8acc8",
   "metadata": {},
   "outputs": [],
   "source": [
    "df.describe()"
   ]
  },
  {
   "cell_type": "raw",
   "id": "964b0d32",
   "metadata": {},
   "source": [
    "del df['G1'] \n",
    "del df['G2'] \n",
    "del df['G3']"
   ]
  },
  {
   "cell_type": "code",
   "execution_count": null,
   "id": "34c29065",
   "metadata": {},
   "outputs": [],
   "source": [
    "len(df)"
   ]
  },
  {
   "cell_type": "code",
   "execution_count": null,
   "id": "f86a2864",
   "metadata": {},
   "outputs": [],
   "source": [
    "df.info()"
   ]
  },
  {
   "cell_type": "code",
   "execution_count": null,
   "id": "09cec384",
   "metadata": {},
   "outputs": [],
   "source": [
    "df['sexEncode']"
   ]
  },
  {
   "cell_type": "markdown",
   "id": "396415f4",
   "metadata": {},
   "source": [
    "# Data Understanding"
   ]
  },
  {
   "cell_type": "code",
   "execution_count": null,
   "id": "6c0828dd",
   "metadata": {},
   "outputs": [],
   "source": [
    "df.mean()"
   ]
  },
  {
   "cell_type": "markdown",
   "id": "1167a3a9",
   "metadata": {},
   "source": [
    "# Data Visualization"
   ]
  },
  {
   "cell_type": "code",
   "execution_count": null,
   "id": "7baa1def",
   "metadata": {},
   "outputs": [],
   "source": [
    "plt.subplots(figsize=(8,12))\n",
    "grade_counts = df['G3'].value_counts().sort_values().plot.barh(width=.9,color=sns.color_palette('inferno',40))\n",
    "grade_counts.axes.set_title('Number of students who scored a particular grade',fontsize=30)\n",
    "grade_counts.set_xlabel('Number of students', fontsize=30)\n",
    "grade_counts.set_ylabel('Final Grade', fontsize=30)\n",
    "plt.show()"
   ]
  },
  {
   "cell_type": "code",
   "execution_count": null,
   "id": "bd48571b",
   "metadata": {},
   "outputs": [],
   "source": [
    "b = sns.countplot(df['G3'])\n",
    "b.axes.set_title('Distribution of Final grade of students', fontsize = 30)\n",
    "b.set_xlabel('Final Grade', fontsize = 20)\n",
    "b.set_ylabel('Count', fontsize = 20)\n",
    "plt.show()"
   ]
  },
  {
   "cell_type": "code",
   "execution_count": null,
   "id": "1d9dfe8d",
   "metadata": {},
   "outputs": [],
   "source": [
    "male_studs = len(df[df['sexEncode'] == 0])\n",
    "female_studs = len(df[df['sexEncode'] == 1])\n",
    "print('Number of male students:',male_studs)\n",
    "print('Number of female students:',female_studs)"
   ]
  },
  {
   "cell_type": "code",
   "execution_count": null,
   "id": "d888ffdc",
   "metadata": {},
   "outputs": [],
   "source": [
    "b = sns.kdeplot(df['age'], shade=True)\n",
    "b.axes.set_title('Ages of students', fontsize = 30)\n",
    "b.set_xlabel('Age', fontsize = 20)\n",
    "b.set_ylabel('Count', fontsize = 20)\n",
    "plt.show()"
   ]
  },
  {
   "cell_type": "code",
   "execution_count": null,
   "id": "e86c205a",
   "metadata": {},
   "outputs": [],
   "source": [
    "x = df['age']\n",
    "\n",
    "plt.hist(x)\n",
    "plt.show() "
   ]
  },
  {
   "cell_type": "code",
   "execution_count": null,
   "id": "c5700bf8",
   "metadata": {},
   "outputs": [],
   "source": [
    "b = sns.countplot('age',hue='sexEncode', data=df)\n",
    "b.axes.set_title('Number of students in different age groups',fontsize=30)\n",
    "b.set_xlabel(\"Age\",fontsize=30)\n",
    "b.set_ylabel(\"Count\",fontsize=20)\n",
    "plt.show()"
   ]
  },
  {
   "cell_type": "code",
   "execution_count": null,
   "id": "38826041",
   "metadata": {},
   "outputs": [],
   "source": [
    "# Grade distribution by address\n",
    "sns.kdeplot(df.loc[df['higherEncode'] == 0, 'G3'], label='Urban', shade = True)\n",
    "sns.kdeplot(df.loc[df['higherEncode'] == 1, 'G3'], label='Rural', shade = True)\n",
    "plt.title('Do urban students score higher than rural students?', fontsize = 20)\n",
    "plt.xlabel('Grade', fontsize = 20);\n",
    "plt.ylabel('Density', fontsize = 20)\n",
    "plt.show()"
   ]
  },
  {
   "cell_type": "code",
   "execution_count": 6,
   "id": "ae9bd188",
   "metadata": {},
   "outputs": [],
   "source": [
    "del df['Target']"
   ]
  },
  {
   "cell_type": "code",
   "execution_count": 7,
   "id": "dd37d1ff",
   "metadata": {},
   "outputs": [],
   "source": [
    "correlation = df.corr()"
   ]
  },
  {
   "cell_type": "markdown",
   "id": "b5bfab52",
   "metadata": {},
   "source": [
    "del df['G1']\n",
    "del df['G2']\n",
    "del df['G3']"
   ]
  },
  {
   "cell_type": "code",
   "execution_count": 8,
   "id": "d9944bef",
   "metadata": {},
   "outputs": [
    {
     "data": {
      "text/plain": [
       "G3                  1.000000\n",
       "G2                  0.910743\n",
       "G1                  0.809142\n",
       "Medu                0.201472\n",
       "studytime           0.161629\n",
       "Fedu                0.159796\n",
       "romanticEncode      0.098363\n",
       "schoolsupEncode     0.079346\n",
       "famsizeEncode       0.061209\n",
       "famrel              0.054461\n",
       "paidEncode          0.049388\n",
       "sexEncode           0.031472\n",
       "reasonEncode        0.025557\n",
       "famsupEncode       -0.013313\n",
       "PstatusEncode      -0.030693\n",
       "activitiesEncode   -0.033998\n",
       "nurseryEncode      -0.039950\n",
       "MjobEncode         -0.040500\n",
       "absences           -0.045671\n",
       "freetime           -0.064890\n",
       "FjobEncode         -0.071819\n",
       "guardianEncode     -0.077320\n",
       "health             -0.080079\n",
       "goout              -0.097877\n",
       "traveltime         -0.102627\n",
       "internetEncode     -0.107064\n",
       "Walc               -0.115740\n",
       "addressEncode      -0.117696\n",
       "age                -0.125282\n",
       "schoolEncode       -0.127114\n",
       "Dalc               -0.129642\n",
       "higherEncode       -0.236578\n",
       "failures           -0.383145\n",
       "Name: G3, dtype: float64"
      ]
     },
     "execution_count": 8,
     "metadata": {},
     "output_type": "execute_result"
    }
   ],
   "source": [
    "correlation['G3'].sort_values(ascending=False)"
   ]
  },
  {
   "cell_type": "code",
   "execution_count": null,
   "id": "16de05a9",
   "metadata": {
    "scrolled": true
   },
   "outputs": [],
   "source": [
    "corr = df.corr()\n",
    "plt.figure(figsize=(25,25))\n",
    "sns.heatmap(corr, annot=True)"
   ]
  },
  {
   "cell_type": "code",
   "execution_count": null,
   "id": "7f5187ac",
   "metadata": {},
   "outputs": [],
   "source": [
    "df.isnull().any()"
   ]
  },
  {
   "cell_type": "code",
   "execution_count": null,
   "id": "d8163df9",
   "metadata": {},
   "outputs": [],
   "source": [
    "df.corr()"
   ]
  },
  {
   "cell_type": "code",
   "execution_count": null,
   "id": "e2771391",
   "metadata": {},
   "outputs": [],
   "source": [
    "sns.catplot('schoolEncode',data=df,kind='count')"
   ]
  },
  {
   "cell_type": "code",
   "execution_count": null,
   "id": "d4751de6",
   "metadata": {},
   "outputs": [],
   "source": [
    "sns.barplot(df['age'],df['failures'],hue=df['sexEncode'],palette='viridis')"
   ]
  },
  {
   "cell_type": "code",
   "execution_count": null,
   "id": "eeb703f9",
   "metadata": {},
   "outputs": [],
   "source": [
    "df.skew().sort_values(ascending=False)"
   ]
  },
  {
   "cell_type": "code",
   "execution_count": null,
   "id": "de3499b6",
   "metadata": {},
   "outputs": [],
   "source": [
    "x = df['health']\n",
    "\n",
    "plt.hist(x)\n",
    "plt.show()"
   ]
  },
  {
   "cell_type": "code",
   "execution_count": null,
   "id": "99cabac6",
   "metadata": {},
   "outputs": [],
   "source": [
    "\n",
    "\n",
    "df.hist()\n",
    "\n",
    "plot.show()"
   ]
  },
  {
   "cell_type": "markdown",
   "id": "9c4f6086",
   "metadata": {},
   "source": [
    "# Handle Skewness"
   ]
  },
  {
   "cell_type": "code",
   "execution_count": null,
   "id": "938dbd0a",
   "metadata": {},
   "outputs": [],
   "source": [
    "from sklearn.preprocessing import PowerTransformer, QuantileTransformer\n",
    "\n",
    "cols1 = [\"absences\", \"failures\", \"Dalc\"]\n",
    "def test_transformers(columns):\n",
    "    pt = PowerTransformer()\n",
    "    qt = QuantileTransformer(n_quantiles=500, output_distribution='normal')\n",
    "    fig = plt.figure(figsize=(20,30))\n",
    "    j = 1\n",
    "    for i in columns:\n",
    "        array = np.array(df[i]).reshape(-1, 1)\n",
    "        y = pt.fit_transform(array)\n",
    "        x = qt.fit_transform(array)\n",
    "        plt.subplot(3,3,j)\n",
    "        sns.histplot(array, bins = 50, kde = True)\n",
    "        plt.title(f\"Original Distribution for {i}\")\n",
    "        plt.subplot(3,3,j+1)\n",
    "        sns.histplot(x, bins = 50, kde = True)\n",
    "        plt.title(f\"Quantile Transform for {i}\")\n",
    "        plt.subplot(3,3,j+2)\n",
    "        sns.histplot(y, bins = 50, kde = True)\n",
    "        plt.title(f\"Power Transform for {i}\")\n",
    "        j += 3\n",
    "        \n"
   ]
  },
  {
   "cell_type": "code",
   "execution_count": null,
   "id": "cbc1c1ae",
   "metadata": {},
   "outputs": [],
   "source": [
    "from sklearn.preprocessing import PowerTransformer, QuantileTransformer\n",
    "\n",
    "cols1 = [\"traveltime\",\"Walc\",\"age\"]\n",
    "def test_transformers(columns):\n",
    "    pt = PowerTransformer()\n",
    "    qt = QuantileTransformer(n_quantiles=500, output_distribution='normal')\n",
    "    fig = plt.figure(figsize=(20,30))\n",
    "    j = 1\n",
    "    for i in columns:\n",
    "        array = np.array(df[i]).reshape(-1, 1)\n",
    "        y = pt.fit_transform(array)\n",
    "        x = qt.fit_transform(array)\n",
    "        plt.subplot(3,3,j)\n",
    "        sns.histplot(array, bins = 50, kde = True)\n",
    "        plt.title(f\"Original Distribution for {i}\")\n",
    "        plt.subplot(3,3,j+1)\n",
    "        sns.histplot(x, bins = 50, kde = True)\n",
    "        plt.title(f\"Quantile Transform for {i}\")\n",
    "        plt.subplot(3,3,j+2)\n",
    "        sns.histplot(y, bins = 50, kde = True)\n",
    "        plt.title(f\"Power Transform for {i}\")\n",
    "        j += 3\n",
    "        \n"
   ]
  },
  {
   "cell_type": "code",
   "execution_count": null,
   "id": "6982d5ec",
   "metadata": {},
   "outputs": [],
   "source": [
    "from sklearn.preprocessing import PowerTransformer, QuantileTransformer\n",
    "\n",
    "cols1 = [\"FjobEncode\",\"famrel\",\"MjobEncode\"]\n",
    "def test_transformers(columns):\n",
    "    pt = PowerTransformer()\n",
    "    qt = QuantileTransformer(n_quantiles=500, output_distribution='normal')\n",
    "    fig = plt.figure(figsize=(20,30))\n",
    "    j = 1\n",
    "    for i in columns:\n",
    "        array = np.array(df[i]).reshape(-1, 1)\n",
    "        y = pt.fit_transform(array)\n",
    "        x = qt.fit_transform(array)\n",
    "        plt.subplot(3,3,j)\n",
    "        sns.histplot(array, bins = 50, kde = True)\n",
    "        plt.title(f\"Original Distribution for {i}\")\n",
    "        plt.subplot(3,3,j+1)\n",
    "        sns.histplot(x, bins = 50, kde = True)\n",
    "        plt.title(f\"Quantile Transform for {i}\")\n",
    "        plt.subplot(3,3,j+2)\n",
    "        sns.histplot(y, bins = 50, kde = True)\n",
    "        plt.title(f\"Power Transform for {i}\")\n",
    "        j += 3\n",
    "        "
   ]
  },
  {
   "cell_type": "code",
   "execution_count": null,
   "id": "e3ea5309",
   "metadata": {},
   "outputs": [],
   "source": [
    "test_transformers(cols1)"
   ]
  },
  {
   "cell_type": "code",
   "execution_count": null,
   "id": "82ea0113",
   "metadata": {},
   "outputs": [],
   "source": [
    "#Using mpg data\n",
    "#Quantile Transformation (by default it is Uniform)\n",
    "quantile_transformer = QuantileTransformer(random_state=0,  output_distribution='normal')\n",
    "df['absences_trans'] = pd.Series(quantile_transformer.fit_transform(np.array(df['absences']).reshape(-1, 1))[:,0])\n",
    "df[['absences', 'absences_trans']].head()\n",
    "#\"failures\", \"Dalc\"\n",
    "quantile_transformer = QuantileTransformer(random_state=0,  output_distribution='normal')\n",
    "df['failures_trans'] = pd.Series(quantile_transformer.fit_transform(np.array(df['failures']).reshape(-1, 1))[:,0])\n",
    "df[['failures', 'failures_trans']].head()\n",
    "\n",
    "\n",
    "#\"traveltime\",\"Walc\",\"age\"\n",
    "quantile_transformer = QuantileTransformer(random_state=0,  output_distribution='normal')\n",
    "df['traveltime_trans'] = pd.Series(quantile_transformer.fit_transform(np.array(df['traveltime']).reshape(-1, 1))[:,0])\n",
    "df[['traveltime', 'traveltime']].head()\n",
    "\n",
    "quantile_transformer = QuantileTransformer(random_state=0,  output_distribution='normal')\n",
    "df['Walc_trans'] = pd.Series(quantile_transformer.fit_transform(np.array(df['Walc']).reshape(-1, 1))[:,0])\n",
    "df[['Walc', 'Walc_trans']].head()\n",
    "\n",
    "quantile_transformer = QuantileTransformer(random_state=0,  output_distribution='normal')\n",
    "df['age_trans'] = pd.Series(quantile_transformer.fit_transform(np.array(df['age']).reshape(-1, 1))[:,0])\n",
    "df[['age', 'age_trans']].head()"
   ]
  },
  {
   "cell_type": "code",
   "execution_count": null,
   "id": "e7051fd9",
   "metadata": {},
   "outputs": [],
   "source": [
    "df['absences_trans']"
   ]
  },
  {
   "cell_type": "code",
   "execution_count": null,
   "id": "b6d44267",
   "metadata": {},
   "outputs": [],
   "source": [
    "df.head()"
   ]
  },
  {
   "cell_type": "code",
   "execution_count": null,
   "id": "a1bf5b28",
   "metadata": {},
   "outputs": [],
   "source": [
    "del df['absences']\n",
    "del df['failures']\n",
    "del df['traveltime']\n",
    "del df['Walc']\n",
    "del df['age']"
   ]
  },
  {
   "cell_type": "code",
   "execution_count": null,
   "id": "f3290e22",
   "metadata": {},
   "outputs": [],
   "source": [
    "# Log transform a single column \n",
    "df[‘col1’] = np.log(df[‘col1’] \n",
    "\n",
    "# Log transform multiple columns in dataframe \n",
    "df = df[[‘col1', ‘col2']].apply(lambda x: np.log(x))"
   ]
  },
  {
   "cell_type": "markdown",
   "id": "034081cb",
   "metadata": {},
   "source": [
    "# Treating Outliers"
   ]
  },
  {
   "cell_type": "code",
   "execution_count": null,
   "id": "7a1207cc",
   "metadata": {},
   "outputs": [],
   "source": [
    "df.describe()"
   ]
  },
  {
   "cell_type": "code",
   "execution_count": null,
   "id": "4e847891",
   "metadata": {},
   "outputs": [],
   "source": [
    "sns.boxplot(df['absences'],data=df)"
   ]
  },
  {
   "cell_type": "code",
   "execution_count": null,
   "id": "390b99fd",
   "metadata": {},
   "outputs": [],
   "source": [
    "Q1 = df['absences'].quantile(0.25)\n",
    "Q3 = df['absences'].quantile(0.75)\n",
    "IQR = Q3 - Q1\n",
    "whisker_width = 1.5\n",
    "I=Q3 + (whisker_width*IQR)\n",
    "\n",
    "df[\"absences\"] = df[\"absences\"].mask(df[\"absences\"] >I,  df['absences'].median())"
   ]
  },
  {
   "cell_type": "code",
   "execution_count": null,
   "id": "549ec1a9",
   "metadata": {},
   "outputs": [],
   "source": [
    "I"
   ]
  },
  {
   "cell_type": "markdown",
   "id": "b2bd08dc",
   "metadata": {},
   "source": [
    "#  Handle Imbalanced data"
   ]
  },
  {
   "cell_type": "code",
   "execution_count": null,
   "id": "8f1f7325",
   "metadata": {},
   "outputs": [],
   "source": [
    "fig = plt.figure(figsize = (15,20))\n",
    "ax = fig.gca()\n",
    "df.hist(ax = ax)"
   ]
  },
  {
   "cell_type": "code",
   "execution_count": null,
   "id": "156095b4",
   "metadata": {},
   "outputs": [],
   "source": [
    "del df['higherEncode']\n",
    "del df['schoolsupEncode']\n",
    "del df['PstatusEncode']\n"
   ]
  },
  {
   "cell_type": "code",
   "execution_count": null,
   "id": "e45946f8",
   "metadata": {},
   "outputs": [],
   "source": [
    "# class count\n",
    "class_count_0, class_count_1 = df['schoolsupEncode'].value_counts()\n",
    "\n",
    "# Separate class\n",
    "class_0 = df[df['schoolsupEncode'] == 1]\n",
    "class_1 = df[df['schoolsupEncode'] == 0]# print the shape of the class\n",
    "print('class 0:', class_0.shape)\n",
    "print('class 1:', class_1.shape)"
   ]
  },
  {
   "cell_type": "code",
   "execution_count": null,
   "id": "89fc1334",
   "metadata": {},
   "outputs": [],
   "source": [
    "class_1_over = class_1.sample(class_count_0, replace=True)\n",
    "\n",
    "test_over = pd.concat([class_1_over,class_0], axis=0)\n",
    "\n",
    "print(\"total class of 1 and 0:\",test_over['schoolsupEncode'].value_counts())# plot the count after under-sampeling\n",
    "test_over['schoolsupEncode'].value_counts().plot(kind='bar', title='count (schoolsupEncode)')"
   ]
  },
  {
   "cell_type": "code",
   "execution_count": null,
   "id": "bacf0a2f",
   "metadata": {},
   "outputs": [],
   "source": [
    "# class count\n",
    "class_count_0, class_count_1 = df['higherEncode'].value_counts()\n",
    "\n",
    "# Separate class\n",
    "class_0 = df[df['higherEncode'] == 0]\n",
    "class_1 = df[df['higherEncode'] == 1]# print the shape of the class\n",
    "print('class 0:', class_0.shape)\n",
    "print('class 1:', class_1.shape)"
   ]
  },
  {
   "cell_type": "code",
   "execution_count": null,
   "id": "7f90037c",
   "metadata": {},
   "outputs": [],
   "source": [
    "class_1_over = class_1.sample(class_count_0, replace=True)\n",
    "\n",
    "test_over = pd.concat([class_1_over,class_0], axis=0)\n",
    "\n",
    "print(\"total class of 1 and 0:\",test_over['higherEncode'].value_counts())# plot the count after under-sampeling\n",
    "test_over['higherEncode'].value_counts().plot(kind='bar', title='count (higherEncode)')"
   ]
  },
  {
   "cell_type": "code",
   "execution_count": null,
   "id": "bdf19d51",
   "metadata": {},
   "outputs": [],
   "source": [
    "# class count\n",
    "class_count_0, class_count_1 = df['PstatusEncode'].value_counts()\n",
    "\n",
    "# Separate class\n",
    "class_0 = df[df['PstatusEncode'] == 1]\n",
    "class_1 = df[df['PstatusEncode'] == 0]# print the shape of the class\n",
    "print('class 0:', class_0.shape)\n",
    "print('class 1:', class_1.shape)"
   ]
  },
  {
   "cell_type": "code",
   "execution_count": null,
   "id": "33685159",
   "metadata": {},
   "outputs": [],
   "source": [
    "class_1_over = class_1.sample(class_count_0, replace=True)\n",
    "\n",
    "test_over = pd.concat([class_1_over,class_0], axis=0)\n",
    "\n",
    "print(\"total class of 1 and 0:\",test_over['PstatusEncode'].value_counts())# plot the count after under-sampeling\n",
    "test_over['PstatusEncode'].value_counts().plot(kind='bar', title='count (PstatusEncode)')"
   ]
  },
  {
   "cell_type": "code",
   "execution_count": null,
   "id": "8057c89c",
   "metadata": {},
   "outputs": [],
   "source": [
    "# class count\n",
    "class_count_0, class_count_1 = df['internetEncode'].value_counts()\n",
    "\n",
    "# Separate class\n",
    "class_0 = df[df['internetEncode'] == 0]\n",
    "class_1 = df[df['internetEncode'] == 1]# print the shape of the class\n",
    "print('class 0:', class_0.shape)\n",
    "print('class 1:', class_1.shape)"
   ]
  },
  {
   "cell_type": "code",
   "execution_count": null,
   "id": "935c2c93",
   "metadata": {},
   "outputs": [],
   "source": [
    "class_1_over = class_1.sample(class_count_0, replace=True)\n",
    "\n",
    "test_over = pd.concat([class_1_over,class_0], axis=0)\n",
    "\n",
    "print(\"total class of 1 and 0:\",test_over['internetEncode'].value_counts())# plot the count after under-sampeling\n",
    "test_over['internetEncode'].value_counts().plot(kind='bar', title='count (internetEncode)')"
   ]
  },
  {
   "cell_type": "code",
   "execution_count": null,
   "id": "ca8fcc3f",
   "metadata": {},
   "outputs": [],
   "source": [
    "test_over.info()"
   ]
  },
  {
   "cell_type": "code",
   "execution_count": null,
   "id": "77d1646b",
   "metadata": {},
   "outputs": [],
   "source": [
    "df=test_over"
   ]
  },
  {
   "cell_type": "code",
   "execution_count": null,
   "id": "d4c582ea",
   "metadata": {},
   "outputs": [],
   "source": [
    "df.info()"
   ]
  },
  {
   "cell_type": "code",
   "execution_count": null,
   "id": "7d56da0f",
   "metadata": {},
   "outputs": [],
   "source": []
  },
  {
   "cell_type": "code",
   "execution_count": null,
   "id": "2ec758aa",
   "metadata": {},
   "outputs": [],
   "source": []
  },
  {
   "cell_type": "code",
   "execution_count": null,
   "id": "b162cd6f",
   "metadata": {},
   "outputs": [],
   "source": []
  },
  {
   "cell_type": "markdown",
   "id": "62de6263",
   "metadata": {},
   "source": [
    "# Split Data"
   ]
  },
  {
   "cell_type": "code",
   "execution_count": null,
   "id": "74b6aa10",
   "metadata": {},
   "outputs": [],
   "source": [
    "del df['Target']"
   ]
  },
  {
   "cell_type": "code",
   "execution_count": null,
   "id": "b40b219e",
   "metadata": {},
   "outputs": [],
   "source": [
    "# Output\n",
    "X =pd.DataFrame(df.drop(df.columns[-1],axis=1))\n",
    "Y=df['G3']\n",
    "X_train, X_test, Y_train,Y_test=train_test_split(X,Y,test_size=0.2,random_state=20,shuffle=True)"
   ]
  },
  {
   "cell_type": "code",
   "execution_count": null,
   "id": "c8adcf3f",
   "metadata": {},
   "outputs": [],
   "source": [
    "#independent Variable\n",
    "X = df[['studytime','failures', 'absences', 'G1', 'G2']]\n",
    "Y=df['G3']\n",
    "X_train, X_test, Y_train,Y_test=train_test_split(X,Y,test_size=0.2,random_state=20,shuffle=True)"
   ]
  },
  {
   "cell_type": "code",
   "execution_count": null,
   "id": "1bb9d508",
   "metadata": {},
   "outputs": [],
   "source": [
    "X= df[['famrel',  \n",
    "'romanticEncode', \n",
    "'Fedu',       \n",
    "'Medu',           \n",
    "'studytime',  \n",
    "'G1',         \n",
    "'G2',\n",
    "'failures',\n",
    "'higherEncode',\n",
    "'age',\n",
    "'guardianEncode', \n",
    "'schoolEncode',\n",
    "'Dalc']]\n",
    "Y=df['G3']\n",
    "X_train, X_test, Y_train,Y_test=train_test_split(X,Y,test_size=0.2,random_state=20,shuffle=True)"
   ]
  },
  {
   "cell_type": "code",
   "execution_count": null,
   "id": "71414221",
   "metadata": {},
   "outputs": [],
   "source": [
    "X.info()"
   ]
  },
  {
   "cell_type": "markdown",
   "id": "430b077a",
   "metadata": {},
   "source": [
    "# Feature Selection"
   ]
  },
  {
   "cell_type": "code",
   "execution_count": null,
   "id": "9741ae9e",
   "metadata": {},
   "outputs": [],
   "source": [
    "from sklearn.feature_selection import mutual_info_regression, mutual_info_classif"
   ]
  },
  {
   "cell_type": "code",
   "execution_count": null,
   "id": "28a04ea9",
   "metadata": {
    "scrolled": false
   },
   "outputs": [],
   "source": [
    "importances = df.drop(\"G3\", axis=1).apply(lambda x: x.corr(df.G3))\n",
    "indices = np.argsort(importances)\n",
    "print(importances[indices])"
   ]
  },
  {
   "cell_type": "code",
   "execution_count": null,
   "id": "e7feff4d",
   "metadata": {},
   "outputs": [],
   "source": [
    "names=['failures ','higherEncode','age',\n",
    "'guardianEncode',\n",
    "'schoolEncode',\n",
    "'Dalc',\n",
    "'absences',\n",
    "'Walc', \n",
    "'goout',\n",
    "'internetEncode',\n",
    "'freetime',\n",
    "'freetime',          \n",
    "'traveltime', \n",
    "'famsupEncode',\n",
    "'addressEncode',\n",
    "'FjobEncode',  \n",
    "'MjobEncode',\n",
    "'nurseryEncode',\n",
    "'activitiesEncode', \n",
    "'PstatusEncode', \n",
    "'schoolsupEncode',\n",
    "'famsizeEncode',\n",
    "'health',       \n",
    "'reasonEncode',    \n",
    "'paidEncode',   \n",
    "'sexEncode',      \n",
    "'famrel',           \n",
    "'romanticEncode',  \n",
    "'Fedu',           \n",
    "'Medu',            \n",
    "'studytime',    \n",
    "'G1',                \n",
    "'G2']\n",
    "plt.title('Miles Per Gallon')\n",
    "plt.barh(range(len(indices)), importances[indices], color='g', align='center')\n",
    "plt.yticks(range(len(indices)), [names[i] for i in indices])\n",
    "plt.xlabel('Relative Importance')\n",
    "plt.figure(figsize=(200,200))\n",
    "plt.show()"
   ]
  },
  {
   "cell_type": "code",
   "execution_count": null,
   "id": "ff99e244",
   "metadata": {},
   "outputs": [],
   "source": [
    "X= df[['famrel',  \n",
    "'romanticEncode', \n",
    "'Fedu',       \n",
    "'Medu',           \n",
    "'studytime',  \n",
    "'G1',         \n",
    "'G2',\n",
    "'failures',\n",
    "'higherEncode',\n",
    "'age',\n",
    "'guardianEncode', \n",
    "'schoolEncode',\n",
    "'Dalc']]"
   ]
  },
  {
   "cell_type": "code",
   "execution_count": null,
   "id": "393b6e3a",
   "metadata": {},
   "outputs": [],
   "source": [
    "X.head()"
   ]
  },
  {
   "cell_type": "code",
   "execution_count": null,
   "id": "78bf7771",
   "metadata": {},
   "outputs": [],
   "source": [
    "for i in range(0,len(X.columns)):\n",
    "    for j in  range(0,len(X.columns)):\n",
    "        if i!=j:\n",
    "            corr_1=np.abs(X[X.columns[i]].corr(X[X.columns[j]]))\n",
    "            if corr_1 <0.3:\n",
    "                print( X.columns[i] , \" is not correlated  with \", X.columns[j])\n",
    "            elif corr_1>0.75:\n",
    "                print( X.columns[i] , \" is highly  correlated  with \", X.columns[j])"
   ]
  },
  {
   "cell_type": "code",
   "execution_count": null,
   "id": "5911c6ff",
   "metadata": {},
   "outputs": [],
   "source": [
    "import numpy as np\n",
    "outliers = []\n",
    "def detect_outliers_zscore(df):\n",
    "    thres = 3\n",
    "    mean = np.mean(df)\n",
    "    std = np.std(df)\n",
    "    # print(mean, std)\n",
    "    for i in df:\n",
    "        z_score = (i-mean)/std\n",
    "        if (np.abs(z_score) > thres):\n",
    "            outliers.append(i)\n",
    "    return outliers# Driver code\n",
    "sample_outliers = detect_outliers_zscore(df)\n",
    "print(\"Outliers from Z-scores method: \", sample_outliers)"
   ]
  },
  {
   "cell_type": "code",
   "execution_count": null,
   "id": "a02e9209",
   "metadata": {},
   "outputs": [],
   "source": [
    "import numpy as np\n",
    "outliers = []\n",
    "def detect_outliers_zscore(df):\n",
    "    thres = 3\n",
    "    mean = np.mean(df)\n",
    "    std = np.std(df)\n",
    "    # print(mean, std)\n",
    "    for i in df:\n",
    "        z_score = (i-mean)/std\n",
    "        if (np.abs(z_score) > thres):\n",
    "            outliers.append(i)\n",
    "    return outliers# Driver code\n",
    "sample_outliers = detect_outliers_zscore(df)\n",
    "print(\"Outliers from Z-scores method: \", sample_outliers)"
   ]
  },
  {
   "cell_type": "markdown",
   "id": "78d45f9c",
   "metadata": {},
   "source": [
    "# Feature Scaling"
   ]
  },
  {
   "cell_type": "code",
   "execution_count": null,
   "id": "1a549ac6",
   "metadata": {},
   "outputs": [],
   "source": [
    "cols = X.columns"
   ]
  },
  {
   "cell_type": "code",
   "execution_count": null,
   "id": "ff7356e3",
   "metadata": {},
   "outputs": [],
   "source": [
    "Y=df['G3']\n",
    "X_train, X_test, Y_train,Y_test=train_test_split(X,Y,test_size=0.2,random_state=20,shuffle=True)"
   ]
  },
  {
   "cell_type": "code",
   "execution_count": null,
   "id": "2510f2fc",
   "metadata": {},
   "outputs": [],
   "source": [
    "from sklearn.preprocessing import StandardScaler\n",
    "\n",
    "scaler = StandardScaler()\n",
    "\n",
    "X_train = scaler.fit_transform(X_train)\n",
    "\n",
    "X_test = scaler.transform(X_test)"
   ]
  },
  {
   "cell_type": "code",
   "execution_count": null,
   "id": "645cdc76",
   "metadata": {
    "scrolled": true
   },
   "outputs": [],
   "source": [
    "X_train = pd.DataFrame(X_train, columns=[cols])"
   ]
  },
  {
   "cell_type": "code",
   "execution_count": null,
   "id": "addd4bbf",
   "metadata": {},
   "outputs": [],
   "source": [
    "X_test = pd.DataFrame(X_test, columns=[cols])"
   ]
  },
  {
   "cell_type": "code",
   "execution_count": null,
   "id": "cabf7540",
   "metadata": {},
   "outputs": [],
   "source": [
    "X_train.head()"
   ]
  },
  {
   "cell_type": "markdown",
   "id": "ff7761bd",
   "metadata": {},
   "source": [
    "# Build Model"
   ]
  },
  {
   "cell_type": "code",
   "execution_count": null,
   "id": "e48da7ed",
   "metadata": {},
   "outputs": [],
   "source": [
    "from sklearn import metrics\n",
    "model = LinearRegression()\n",
    "model.fit(X_train,Y_train)\n",
    "pred = model.predict(X_test)\n",
    "print('Mean Absolute Error:', metrics.mean_absolute_error(Y_test, pred))  \n",
    "print('Mean Squared Error:', metrics.mean_squared_error(Y_test, pred))  \n",
    "print('Root Mean Squared Error:', np.sqrt(metrics.mean_squared_error(Y_test, pred)))\n",
    "print(f'Accuracy: {round(r2_score(Y_test , pred),3)*100}%')"
   ]
  },
  {
   "cell_type": "code",
   "execution_count": null,
   "id": "18cc3efa",
   "metadata": {},
   "outputs": [],
   "source": [
    "plt.figure(figsize= (10,6))\n",
    "sns.lineplot(Y_test,pred, err_style=\"bars\")\n",
    "sns.scatterplot(Y_test, pred)"
   ]
  },
  {
   "cell_type": "code",
   "execution_count": null,
   "id": "61f03d03",
   "metadata": {},
   "outputs": [],
   "source": [
    "sns.regplot(Y_test,pred,scatter_kws={\"color\": \"black\"}, line_kws={\"color\": \"red\"})\n",
    "\n",
    "from sklearn import metrics\n",
    "from sklearn.metrics import r2_score\n",
    "\n",
    "print('MSE', metrics.mean_squared_error(Y_test,pred))\n",
    "print('R2 Score:',r2_score(Y_test , pred))"
   ]
  },
  {
   "cell_type": "code",
   "execution_count": null,
   "id": "7335f812",
   "metadata": {},
   "outputs": [],
   "source": [
    "# Evaluate several ml models by training on training set and testing on testing set\n",
    "def evaluate(X_train, X_test, Y_train, Y_test):\n",
    "    # Names of models\n",
    "    model_name_list = ['Linear Regression', 'ElasticNet Regression',\n",
    "                      'Random Forest', 'Extra Trees', 'SVM',\n",
    "                       'Gradient Boosted', 'Baseline']\n",
    "\n",
    "    # Instantiate the models\n",
    "    model1 = LinearRegression()\n",
    "    model2 = ElasticNet(alpha=1.0, l1_ratio=0.5)\n",
    "    model3 = RandomForestRegressor(n_estimators=100)\n",
    "    model4 = ExtraTreesRegressor(n_estimators=100)\n",
    "    model5 = SVR(kernel='rbf', degree=3, C=1.0, gamma='auto')\n",
    "    model6 = GradientBoostingRegressor(n_estimators=50)\n",
    "    \n",
    "    # Dataframe for results\n",
    "    results = pd.DataFrame(columns=['mae', 'rmse','rscore'], index = model_name_list)\n",
    "     # Train and predict with each model\n",
    "    for i, model in enumerate([model1, model2, model3, model4, model5, model6]):\n",
    "        model.fit(X_train, Y_train)\n",
    "        predictions = model.predict(X_test)\n",
    "        \n",
    "        # Metrics\n",
    "        mae = np.mean(abs(predictions - Y_test))\n",
    "        rmse = np.sqrt(np.mean((predictions - Y_test) ** 2))\n",
    "        rscore= round(r2_score(Y_test , predictions),3)*100\n",
    "        # Insert results into the dataframe\n",
    "        model_name = model_name_list[i]\n",
    "        results.loc[model_name, :] = [mae, rmse, rscore]\n",
    "    \n",
    "    # Median Value Baseline Metrics\n",
    "    baseline = np.median(Y_train)\n",
    "    baseline_mae = np.mean(abs(baseline - Y_test))\n",
    "    baseline_rmse = np.sqrt(np.mean((baseline - Y_test) ** 2))\n",
    "    baseline_rscore = round(r2_score(Y_test , predictions),3)*100\n",
    "    \n",
    "    results.loc['Baseline', :] = [baseline_mae, baseline_rmse,baseline_rscore]\n",
    "    \n",
    "    return results"
   ]
  },
  {
   "cell_type": "code",
   "execution_count": null,
   "id": "751267df",
   "metadata": {
    "scrolled": true
   },
   "outputs": [],
   "source": [
    "results = evaluate(X_train, X_test, Y_train, Y_test)\n",
    "results"
   ]
  },
  {
   "cell_type": "code",
   "execution_count": null,
   "id": "909ef0fe",
   "metadata": {},
   "outputs": [],
   "source": [
    "plt.figure(figsize=(12, 8))\n",
    "\n",
    "# Root mean squared error\n",
    "ax =  plt.subplot(1, 2, 1)\n",
    "results.sort_values('mae', ascending = True).plot.bar(y = 'mae', color = 'b', ax = ax, fontsize=20)\n",
    "plt.title('Model Mean Absolute Error', fontsize=20) \n",
    "plt.ylabel('MAE', fontsize=20)\n",
    "\n",
    "# Median absolute percentage error\n",
    "ax = plt.subplot(1, 2, 2)\n",
    "results.sort_values('rmse', ascending = True).plot.bar(y = 'rmse', color = 'r', ax = ax, fontsize=20)\n",
    "plt.title('Model Root Mean Squared Error', fontsize=20) \n",
    "plt.ylabel('RMSE',fontsize=20)\n",
    "\n",
    "\n",
    "plt.show()"
   ]
  },
  {
   "cell_type": "code",
   "execution_count": null,
   "id": "b5cb4b8a",
   "metadata": {},
   "outputs": [],
   "source": [
    "plt.figure(figsize=(12, 8))\n",
    "\n",
    "ax = plt.subplot(1, 2, 1)\n",
    "results.sort_values('rscore', ascending = True).plot.bar(y = 'rscore', color = 'g', ax = ax, fontsize=20)\n",
    "plt.title('R Score', fontsize=20) \n",
    "plt.ylabel('R Score',fontsize=20)\n",
    "\n",
    "plt.show()"
   ]
  },
  {
   "cell_type": "markdown",
   "id": "a8f2bc7a",
   "metadata": {},
   "source": [
    "# Build Classification"
   ]
  },
  {
   "cell_type": "code",
   "execution_count": null,
   "id": "0f1a47e6",
   "metadata": {},
   "outputs": [],
   "source": [
    "df.loc[df.G3 <= 9, 'G3'] = 0\n",
    "df.loc[df.G3 > 9, 'G3'] = 1\n",
    "df.loc[df.G2 <= 9, 'G2'] = 0\n",
    "df.loc[df.G2 > 9, 'G2'] = 1\n",
    "df.loc[df.G1 <= 9, 'G1'] = 0\n",
    "df.loc[df.G1 > 9, 'G1'] = 1"
   ]
  },
  {
   "cell_type": "code",
   "execution_count": null,
   "id": "33a7eaa8",
   "metadata": {},
   "outputs": [],
   "source": [
    "X = df[['studytime','failures', 'absences', 'G1', 'G2']]\n",
    "y = df['G3']"
   ]
  },
  {
   "cell_type": "code",
   "execution_count": null,
   "id": "57d061f6",
   "metadata": {},
   "outputs": [],
   "source": [
    "y = Y"
   ]
  },
  {
   "cell_type": "code",
   "execution_count": null,
   "id": "8abc6585",
   "metadata": {},
   "outputs": [],
   "source": [
    "X_train.head()"
   ]
  },
  {
   "cell_type": "code",
   "execution_count": null,
   "id": "9dc50a58",
   "metadata": {},
   "outputs": [],
   "source": [
    "X_train['freetime'].describe"
   ]
  },
  {
   "cell_type": "code",
   "execution_count": null,
   "id": "1cf68c0f",
   "metadata": {},
   "outputs": [],
   "source": [
    "X_train, X_test, y_train, y_test = train_test_split(X, y, test_size=0.2, random_state=1)"
   ]
  },
  {
   "cell_type": "code",
   "execution_count": null,
   "id": "67e76539",
   "metadata": {},
   "outputs": [],
   "source": [
    "X_train.head()"
   ]
  },
  {
   "cell_type": "code",
   "execution_count": null,
   "id": "4c7eeeb4",
   "metadata": {},
   "outputs": [],
   "source": [
    "from sklearn.neighbors import KNeighborsClassifier\n",
    "knn = KNeighborsClassifier(n_neighbors = 3)\n",
    "#FIT the classifier to the data\n",
    "knn.fit(X_train, y_train)"
   ]
  },
  {
   "cell_type": "code",
   "execution_count": null,
   "id": "c11e77cf",
   "metadata": {},
   "outputs": [],
   "source": [
    "y_pred = knn.predict(X_test)\n",
    "\n",
    "y_pred"
   ]
  },
  {
   "cell_type": "code",
   "execution_count": null,
   "id": "7bfab308",
   "metadata": {},
   "outputs": [],
   "source": []
  },
  {
   "cell_type": "code",
   "execution_count": null,
   "id": "89658cfb",
   "metadata": {},
   "outputs": [],
   "source": [
    "knn.score(X_test, y_test)\n"
   ]
  },
  {
   "cell_type": "code",
   "execution_count": null,
   "id": "26fc13fc",
   "metadata": {},
   "outputs": [],
   "source": [
    "for i in range(len(X_test)):\n",
    "    print(\"X=%s, Predicted=%s\" % (X_test[:i], y_pred[:i]))"
   ]
  },
  {
   "cell_type": "code",
   "execution_count": null,
   "id": "795f64a0",
   "metadata": {},
   "outputs": [],
   "source": [
    "from platform import python_version\n",
    "print(python_version())"
   ]
  },
  {
   "cell_type": "code",
   "execution_count": null,
   "id": "707aebfc",
   "metadata": {},
   "outputs": [],
   "source": [
    "min = df['G2'].min(),\n",
    "max = df['G2'].max(),"
   ]
  },
  {
   "cell_type": "code",
   "execution_count": null,
   "id": "61e0f73e",
   "metadata": {
    "scrolled": true
   },
   "outputs": [],
   "source": [
    "from sklearn.metrics import confusion_matrix\n",
    "\n",
    "cm = confusion_matrix(y_test, y_pred)\n",
    "\n",
    "print('Confusion matrix\\n\\n', cm)\n",
    "\n",
    "print('\\nTrue Positives(TP) = ', cm[0,0])\n",
    "\n",
    "print('\\nTrue Negatives(TN) = ', cm[1,1])\n",
    "\n",
    "print('\\nFalse Positives(FP) = ', cm[0,1])\n",
    "\n",
    "print('\\nFalse Negatives(FN) = ', cm[1,0])\n",
    "\n",
    "print(accuracy_score(y_test,y_pred))"
   ]
  },
  {
   "cell_type": "code",
   "execution_count": null,
   "id": "de3eb0e0",
   "metadata": {},
   "outputs": [],
   "source": [
    "from sklearn import ensemble\n",
    "rf = ensemble.RandomForestClassifier()\n",
    "rf.fit(X_train, y_train)\n",
    "y_rf = rf.predict(X_test)\n",
    "cm = confusion_matrix(y_test, y_pred)"
   ]
  },
  {
   "cell_type": "code",
   "execution_count": null,
   "id": "fc1349fd",
   "metadata": {},
   "outputs": [],
   "source": [
    "print(cm)\n",
    "print(accuracy_score(y_test,y_pred))"
   ]
  },
  {
   "cell_type": "code",
   "execution_count": null,
   "id": "06778e50",
   "metadata": {},
   "outputs": [],
   "source": [
    "def detect_outlier(df):\n",
    "\n",
    "  flag_outlier = False\n",
    "\n",
    "  for feature in df:\n",
    "    column = df['age']\n",
    "    mean = np.mean(column)\n",
    "    std = np.std(column)\n",
    "    z_scores = (column - mean) / std\n",
    "    outliers = np.abs(z_scores) > 3\n",
    "\n",
    "    n_outliers = sum(outliers)\n",
    "    if n_outliers > 0:\n",
    "      print(\"{} has {} outliers\".format(column, n_outliers))\n",
    "      flag_outlier = True\n",
    "\n",
    "    if ~flag_outlier:\n",
    "      print(\"The dataset has no outliers.\")\n",
    "    \n",
    "    return None\n",
    "  \n",
    "detect_outlier(X)"
   ]
  },
  {
   "cell_type": "markdown",
   "id": "969d3999",
   "metadata": {},
   "source": [
    "# Hyperparameter Tuning"
   ]
  },
  {
   "cell_type": "code",
   "execution_count": null,
   "id": "4b725fcc",
   "metadata": {},
   "outputs": [],
   "source": [
    "from sklearn.model_selection import GridSearchCV"
   ]
  },
  {
   "cell_type": "code",
   "execution_count": null,
   "id": "c83abc91",
   "metadata": {},
   "outputs": [],
   "source": [
    "#List Hyperparameters that we want to tune.\n",
    "leaf_size = list(range(1,50))\n",
    "n_neighbors = list(range(1,30))\n",
    "p=[1,2]\n",
    "\n",
    "hyperparameters = dict(leaf_size=leaf_size, n_neighbors=n_neighbors, p=p)\n",
    "\n",
    "knn_2 = KNeighborsClassifier()\n",
    "\n",
    "clf = GridSearchCV(knn_2, hyperparameters, cv=10)\n",
    "\n",
    "best_model = clf.fit(X,y)\n",
    "\n",
    "print('Best leaf_size:', best_model.best_estimator_.get_params()['leaf_size'])\n",
    "print('Best p:', best_model.best_estimator_.get_params()['p'])\n",
    "print('Best n_neighbors:', best_model.best_estimator_.get_params()['n_neighbors'])"
   ]
  },
  {
   "cell_type": "code",
   "execution_count": null,
   "id": "ca206710",
   "metadata": {},
   "outputs": [],
   "source": [
    "k_range = range(1,50)\n",
    "weight = ['distance','uniform']\n",
    "metric = ['euclidean','manhattan','minkowski']\n",
    "algorithm = ['ball_tree','kd_tree']\n",
    "grid_params = dict(n_neighbors=k_range, weights=weight,metric=metric,algorithm=algorithm)\n"
   ]
  },
  {
   "cell_type": "code",
   "execution_count": null,
   "id": "a1d5663a",
   "metadata": {},
   "outputs": [],
   "source": [
    "gs = GridSearchCV(KNeighborsClassifier(), grid_params, verbose = 1, cv=3, n_jobs = -1)"
   ]
  },
  {
   "cell_type": "code",
   "execution_count": null,
   "id": "8750c4ad",
   "metadata": {},
   "outputs": [],
   "source": [
    "g_res = gs.fit(X_train, y_train)"
   ]
  },
  {
   "cell_type": "code",
   "execution_count": null,
   "id": "ddd00d4e",
   "metadata": {},
   "outputs": [],
   "source": [
    "g_res.best_score_"
   ]
  },
  {
   "cell_type": "code",
   "execution_count": null,
   "id": "21be8c99",
   "metadata": {},
   "outputs": [],
   "source": [
    "g_res.best_params_"
   ]
  },
  {
   "cell_type": "code",
   "execution_count": null,
   "id": "aee34874",
   "metadata": {},
   "outputs": [],
   "source": [
    "df.dtypes"
   ]
  },
  {
   "cell_type": "code",
   "execution_count": null,
   "id": "82f8077a",
   "metadata": {},
   "outputs": [],
   "source": [
    "import anvil.server\n",
    "\n",
    "anvil.server.connect(\"GXVGWP6SIUSS6FD42RV2FJKP-VU4KKAACVS5IHYLW\")\n"
   ]
  },
  {
   "cell_type": "code",
   "execution_count": null,
   "id": "a7c88301",
   "metadata": {},
   "outputs": [],
   "source": [
    "import pickle\n",
    "import anvil.server\n",
    "#saving model\n",
    "pickle.dump(knn, open('model_new.pickle', 'wb'))\n",
    "@anvil.server.callable\n",
    "def predict_model(studytime,failures, absences, G1, G2):\n",
    "    model_linear = pickle.load(open('model_new.pickle', 'rb'))\n",
    "    predictions=model_linear.predict([[studytime,failures, absences, G1, G2]])[0]\n",
    "    return(predictions)"
   ]
  },
  {
   "cell_type": "code",
   "execution_count": null,
   "id": "5548ab69",
   "metadata": {},
   "outputs": [],
   "source": [
    "pip install streamlit"
   ]
  },
  {
   "cell_type": "code",
   "execution_count": null,
   "id": "817fb917",
   "metadata": {},
   "outputs": [],
   "source": [
    "import streamlit as st"
   ]
  },
  {
   "cell_type": "code",
   "execution_count": null,
   "id": "665f49da",
   "metadata": {},
   "outputs": [],
   "source": [
    "\n",
    "df =  pd.read_csv('D:\\FYP2\\student.csv')"
   ]
  },
  {
   "cell_type": "code",
   "execution_count": null,
   "id": "0ff97274",
   "metadata": {},
   "outputs": [],
   "source": [
    "st.dataframe(df)"
   ]
  },
  {
   "cell_type": "code",
   "execution_count": null,
   "id": "22d8a575",
   "metadata": {},
   "outputs": [],
   "source": [
    "pip install ipywidgets\n"
   ]
  },
  {
   "cell_type": "code",
   "execution_count": null,
   "id": "f214b480",
   "metadata": {},
   "outputs": [],
   "source": [
    "import seaborn as sns\n",
    "\n",
    "df.head()"
   ]
  },
  {
   "cell_type": "code",
   "execution_count": null,
   "id": "382a1fb6",
   "metadata": {},
   "outputs": [],
   "source": [
    "#Creating the interactive dashboard\n",
    "from ipywidgets import interact\n",
    "@interact\n",
    "def create_fare_plot(col = titanic.drop(['fare', 'age'], axis =1).columns):\n",
    "    sns.barplot(data = titanic, x = col, y ='fare')\n",
    "    plt.title(f'Mean Bar Plot of the Fare grouped by the {col}')"
   ]
  },
  {
   "cell_type": "code",
   "execution_count": null,
   "id": "1996ea58",
   "metadata": {},
   "outputs": [],
   "source": [
    "export FLASK_ENV=development"
   ]
  },
  {
   "cell_type": "code",
   "execution_count": null,
   "id": "c25ff119",
   "metadata": {},
   "outputs": [],
   "source": [
    "pip install dash"
   ]
  },
  {
   "cell_type": "code",
   "execution_count": null,
   "id": "3e9b2ef1",
   "metadata": {},
   "outputs": [],
   "source": [
    "pip install explainerdashboard"
   ]
  },
  {
   "cell_type": "code",
   "execution_count": null,
   "id": "0b2613eb",
   "metadata": {},
   "outputs": [],
   "source": [
    "from sklearn.ensemble import RandomForestClassifier\n",
    "from explainerdashboard import ClassifierExplainer, ExplainerDashboard\n",
    "X_train, X_test, y_train, y_test = train_test_split(X, y, test_size=0.2, random_state=1)\n",
    "\n",
    "model = RandomForestClassifier(n_estimators=50, max_depth=10).fit(X_train, y_train)\n",
    "explainer = ClassifierExplainer(model, X_test, y_test, labels=['0', '1'])\n"
   ]
  },
  {
   "cell_type": "code",
   "execution_count": null,
   "id": "b018af4c",
   "metadata": {},
   "outputs": [],
   "source": [
    "ExplainerDashboard(explainer).run()"
   ]
  },
  {
   "cell_type": "code",
   "execution_count": null,
   "id": "aed38ac8",
   "metadata": {},
   "outputs": [],
   "source": [
    "import pandas as pd\n",
    "from sklearn.ensemble import RandomForestRegressor\n",
    "from sklearn.model_selection import train_test_split\n",
    "from explainerdashboard import RegressionExplainer, ExplainerDashboard"
   ]
  },
  {
   "cell_type": "code",
   "execution_count": null,
   "id": "7376866d",
   "metadata": {},
   "outputs": [],
   "source": [
    "X = df[['studytime','failures', 'absences', 'G1', 'G2']]\n",
    "Y=df['G3']\n",
    "#Printing first five rows of the DataFrame\n",
    "X.head()"
   ]
  },
  {
   "cell_type": "code",
   "execution_count": null,
   "id": "4d8bcc71",
   "metadata": {},
   "outputs": [],
   "source": [
    "#Splitting the Dataset\n",
    "X_train, X_test, y_train, y_test = train_test_split(X, y, test_size=0.2, random_state=1)\n",
    "print(X_train.shape,y_train.shape,X_test.shape,y_test.shape)"
   ]
  },
  {
   "cell_type": "code",
   "execution_count": null,
   "id": "21c22225",
   "metadata": {},
   "outputs": [],
   "source": [
    "from sklearn.neighbors import KNeighborsClassifier\n",
    "knn = KNeighborsClassifier(n_neighbors = 3)\n",
    "#FIT the classifier to the data\n",
    "knn.fit(X_train, y_train)"
   ]
  },
  {
   "cell_type": "code",
   "execution_count": null,
   "id": "2703a9d3",
   "metadata": {},
   "outputs": [],
   "source": [
    "explainer = RegressionExplainer(knn, X_test, y_test)\n",
    "#Start the Dashboard\n",
    "db = ExplainerDashboard(explainer,title=\"Student\",whatif=False)\n",
    "#Running the app on a local port 3050\n",
    "db.run(port=3050)"
   ]
  },
  {
   "cell_type": "code",
   "execution_count": null,
   "id": "9e2994a9",
   "metadata": {},
   "outputs": [],
   "source": [
    "\n",
    "for i in [1,5,20,30,40,80]:\n",
    "    knn_comparison(df, i)"
   ]
  },
  {
   "cell_type": "code",
   "execution_count": null,
   "id": "3fa3bbf6",
   "metadata": {},
   "outputs": [],
   "source": []
  }
 ],
 "metadata": {
  "kernelspec": {
   "display_name": "Python 3 (ipykernel)",
   "language": "python",
   "name": "python3"
  },
  "language_info": {
   "codemirror_mode": {
    "name": "ipython",
    "version": 3
   },
   "file_extension": ".py",
   "mimetype": "text/x-python",
   "name": "python",
   "nbconvert_exporter": "python",
   "pygments_lexer": "ipython3",
   "version": "3.9.12"
  }
 },
 "nbformat": 4,
 "nbformat_minor": 5
}
